{
  "cells": [
    {
      "cell_type": "markdown",
      "metadata": {},
      "source": [
        "# 日本の高齢化の推移（データ可視化）\n",
        "\n",
        "出典：政府統計の総合窓口(e-Stat)『人口推計』張より作成"
      ]
    },
    {
      "cell_type": "code",
      "execution_count": null,
      "metadata": {},
      "outputs": [],
      "source": [
        "# 📥 ライブラリのインポート\n",
        "import matplotlib.pyplot as plt\n",
        "import pandas as pd"
      ]
    },
    {
      "cell_type": "code",
      "execution_count": null,
      "metadata": {},
      "outputs": [],
      "source": [
        "# 📊 データの準備\n",
        "years = [1995, 2000, 2005, 2010, 2015, 2020, 2024, 2030, 2040, 2060, 2070]\n",
        "total_population = [125570, 126926, 127768, 128057, 127095, 126146, 123802, 120116, 112837, 96148, 86996]\n",
        "senior_population = [18278, 22044, 25759, 29484, 33866, 36027, 36243, 36962, 39285, 36437, 33671]\n",
        "aging_rate = [14.6, 17.4, 20.2, 23.0, 26.6, 28.6, 29.3, 30.8, 34.8, 37.9, 38.7]"
      ]
    },
    {
      "cell_type": "code",
      "execution_count": null,
      "metadata": {},
      "outputs": [],
      "source": [
        "# 🎨 可視化の設定と描画\n",
        "color_total = '#90CAF9'\n",
        "color_senior = '#FF5252'\n",
        "color_rate = '#FFB300'\n",
        "\n",
        "plt.rcParams['font.family'] = 'Hiragino Sans'\n",
        "\n",
        "fig, ax1 = plt.subplots(figsize=(12, 6))\n",
        "bar_width = 0.35\n",
        "x = range(len(years))\n",
        "\n",
        "ax1.bar([i - bar_width/2 for i in x], total_population, width=bar_width, label='総人口（千人）', color=color_total)\n",
        "ax1.bar([i + bar_width/2 for i in x], senior_population, width=bar_width, label='65歳以上人口（千人）', color=color_senior)\n",
        "ax1.set_ylabel('人口（千人）', fontsize=12)\n",
        "ax1.set_xticks(x)\n",
        "ax1.set_xticklabels(years, rotation=45)\n",
        "ax1.legend(loc='upper left', fontsize=10)\n",
        "\n",
        "ax2 = ax1.twinx()\n",
        "ax2.plot(x, aging_rate, color=color_rate, marker='o', linewidth=2.5, label='高齢化率（％）')\n",
        "ax2.set_ylabel('高齢化率（％）', fontsize=12)\n",
        "ax2.legend(loc='upper right', fontsize=10)\n",
        "\n",
        "plt.title('日本の高齢化の推移', fontsize=14, fontweight='bold')\n",
        "plt.figtext(0.5, 0.01, '出典：政府統計の総合窓口(e-Stat)『人口推計』張より作成', ha='center', fontsize=10)\n",
        "\n",
        "plt.tight_layout()\n",
        "plt.savefig(\"japan_aging_trend_corrected.png\", dpi=300, bbox_inches=\"tight\")\n",
        "plt.show()"
      ]
    }
  ],
  "metadata": {
    "kernelspec": {
      "display_name": "Python 3",
      "language": "python",
      "name": "python3"
    },
    "language_info": {
      "name": "python",
      "version": "3.9"
    }
  },
  "nbformat": 4,
  "nbformat_minor": 5
}